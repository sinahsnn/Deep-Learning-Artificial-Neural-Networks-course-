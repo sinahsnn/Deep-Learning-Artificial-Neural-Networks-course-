{
  "nbformat": 4,
  "nbformat_minor": 0,
  "metadata": {
    "colab": {
      "name": "Q3.ipynb",
      "provenance": [],
      "collapsed_sections": [
        "TJssLGfeCefS"
      ]
    },
    "kernelspec": {
      "name": "python3",
      "display_name": "Python 3"
    },
    "language_info": {
      "name": "python"
    },
    "accelerator": "GPU"
  },
  "cells": [
    {
      "cell_type": "markdown",
      "source": [
        "# **Computer Assignment2 Bonus Question**\n",
        "## **Course** : Deep Learning Course\n",
        "## **Department of Electrical Engineering At Sharif University of Technology**\n",
        "### **Author**: M.Sina Hasan-Nia \n",
        "### **ID Number**: 96108515"
      ],
      "metadata": {
        "id": "XtqZ4u6it9w-"
      }
    },
    {
      "cell_type": "markdown",
      "source": [
        "# Imports"
      ],
      "metadata": {
        "id": "QoJkr4rO8f1V"
      }
    },
    {
      "cell_type": "code",
      "source": [
        "import numpy as np\n",
        "import matplotlib.pyplot as plt\n",
        "import random\n",
        "import tensorflow as tf\n",
        "from tensorflow.keras import datasets, layers, losses,models\n",
        "from tensorflow import keras\n",
        "from keras.applications.xception import Xception, preprocess_input,decode_predictions\n",
        "from tensorflow.keras import regularizers\n",
        "from tensorflow.keras.callbacks import ModelCheckpoint, CSVLogger\n",
        "from tensorflow.keras.optimizers import SGD\n",
        "from keras.preprocessing import image\n",
        "#from  keras.preprocessing.image import image_to_array\n",
        "from keras.models import Model\n",
        "from keras.layers import Input\n",
        "from keras.layers import Dense, GlobalAveragePooling2D\n",
        "from keras import backend as K\n",
        "from keras.layers import Dropout\n",
        "from keras.layers import Flatten\n",
        "from keras.layers.convolutional import MaxPooling2D\n",
        "from google.colab import drive\n",
        "drive.mount('/content/drive')\n",
        "import os\n",
        "import collections\n",
        "from collections import defaultdict\n",
        "from shutil import copy\n",
        "from shutil import copytree, rmtree\n",
        "from tensorflow.keras.preprocessing.image import ImageDataGenerator\n",
        "from scipy.io import loadmat"
      ],
      "metadata": {
        "id": "brmwsPUw8fGB",
        "colab": {
          "base_uri": "https://localhost:8080/"
        },
        "outputId": "1339fd45-c9a6-4463-f581-79df71d25544"
      },
      "execution_count": null,
      "outputs": [
        {
          "output_type": "stream",
          "name": "stdout",
          "text": [
            "Mounted at /content/drive\n"
          ]
        }
      ]
    },
    {
      "cell_type": "markdown",
      "source": [
        "# Q3 "
      ],
      "metadata": {
        "id": "HHj2J1HDuD9J"
      }
    },
    {
      "cell_type": "markdown",
      "source": [
        "## Part B"
      ],
      "metadata": {
        "id": "-jkI_UMAPMrm"
      }
    },
    {
      "cell_type": "code",
      "execution_count": null,
      "metadata": {
        "id": "lmDzrJOwtpfp",
        "colab": {
          "base_uri": "https://localhost:8080/"
        },
        "outputId": "c83b8ff5-dca4-4978-f274-984d42d8c99f"
      },
      "outputs": [
        {
          "output_type": "stream",
          "name": "stdout",
          "text": [
            "Downloading data from https://storage.googleapis.com/tensorflow/keras-applications/xception/xception_weights_tf_dim_ordering_tf_kernels.h5\n",
            "91889664/91884032 [==============================] - 2s 0us/step\n",
            "91897856/91884032 [==============================] - 2s 0us/step\n",
            "Downloading data from https://storage.googleapis.com/download.tensorflow.org/data/imagenet_class_index.json\n",
            "40960/35363 [==================================] - 0s 0us/step\n",
            "49152/35363 [=========================================] - 0s 0us/step\n",
            "[[('n07753275', 'pineapple', 0.94270843), ('n07747607', 'orange', 0.0010595159), ('n07753592', 'banana', 0.0008359188)]]\n",
            "pineapple is :  True\n",
            "orange is :  False\n",
            "banana is :  False\n"
          ]
        }
      ],
      "source": [
        "base_model = Xception(input_shape=(299, 299, 3),include_top=True, weights='imagenet')\n",
        "base_model.trainable = False # freeze the base model\n",
        "inputs = keras.Input(shape=(150, 150, 3))\n",
        "path = '/content/drive/MyDrive/image/pinapple.jfif'\n",
        "x = (image.load_img(path,target_size=(299,299,3)))\n",
        "x = preprocess_input(tf.Variable((image.img_to_array(x)))[np.newaxis,...])\n",
        "#base_model.summary()\n",
        "y_pred = base_model(x)\n",
        "model_pred =decode_predictions(y_pred.numpy(), top=3)\n",
        "thr =0.5\n",
        "detector = [model_pred[0][i][2]>thr  for i in range(0,3)]\n",
        "print(model_pred)\n",
        "print(model_pred[0][0][1],\"is : \",detector[0] )\n",
        "print(model_pred[0][1][1],\"is : \",detector[1] )\n",
        "print(model_pred[0][2][1],\"is : \",detector[2] )"
      ]
    },
    {
      "cell_type": "markdown",
      "source": [
        "## Part c"
      ],
      "metadata": {
        "id": "kqKRtpmBsquF"
      }
    },
    {
      "cell_type": "code",
      "source": [
        "path = '/content/drive/MyDrive/image/cake.jfif'\n",
        "x = (image.load_img(path,target_size=(299,299,3)))\n",
        "x = preprocess_input(tf.Variable((image.img_to_array(x)))[np.newaxis,...])\n",
        "#base_model.summary()\n",
        "y_pred = base_model(x)\n",
        "model_pred =decode_predictions(y_pred.numpy(), top=3)\n",
        "thr =0.5\n",
        "detector = [model_pred[0][i][2]>thr  for i in range(0,3)]\n",
        "print(model_pred)\n",
        "print(model_pred[0][0][1],\"is : \",detector[0] )\n",
        "print(model_pred[0][1][1],\"is : \",detector[1] )\n",
        "print(model_pred[0][2][1],\"is : \",detector[2] )"
      ],
      "metadata": {
        "colab": {
          "base_uri": "https://localhost:8080/"
        },
        "id": "3cSesV5HsoUR",
        "outputId": "c950d54d-1654-4410-ec5e-8a8841f0ba56"
      },
      "execution_count": null,
      "outputs": [
        {
          "output_type": "stream",
          "name": "stdout",
          "text": [
            "[[('n07836838', 'chocolate_sauce', 0.23674652), ('n07614500', 'ice_cream', 0.03872641), ('n07871810', 'meat_loaf', 0.03390128)]]\n",
            "chocolate_sauce is :  False\n",
            "ice_cream is :  False\n",
            "meat_loaf is :  False\n"
          ]
        }
      ]
    },
    {
      "cell_type": "markdown",
      "source": [
        "## Part d"
      ],
      "metadata": {
        "id": "TJssLGfeCefS"
      }
    },
    {
      "cell_type": "code",
      "source": [
        "def get_data_extract():\n",
        "  if \"food-101\" in os.listdir():\n",
        "    print(\"Dataset already exists\")\n",
        "  else:\n",
        "    tf.keras.utils.get_file(\n",
        "    'food-101.tar.gz',\n",
        "    'http://data.vision.ee.ethz.ch/cvl/food-101.tar.gz',\n",
        "    cache_subdir='/content',\n",
        "    extract=True,\n",
        "    archive_format='tar',\n",
        "    cache_dir=None\n",
        "    )\n",
        "    print(\"Dataset downloaded and extracted!\")"
      ],
      "metadata": {
        "id": "SWkL_mS1t8E_"
      },
      "execution_count": null,
      "outputs": []
    },
    {
      "cell_type": "code",
      "source": [
        "# Download data and extract it to folder\n",
        "get_data_extract()"
      ],
      "metadata": {
        "colab": {
          "base_uri": "https://localhost:8080/"
        },
        "id": "TA06hDrF-DKU",
        "outputId": "c6300143-49be-4678-8fe2-deb075e56f9a"
      },
      "execution_count": null,
      "outputs": [
        {
          "output_type": "stream",
          "name": "stdout",
          "text": [
            "Downloading data from http://data.vision.ee.ethz.ch/cvl/food-101.tar.gz\n",
            "4996284416/4996278331 [==============================] - 196s 0us/step\n",
            "4996292608/4996278331 [==============================] - 196s 0us/step\n",
            "Dataset downloaded and extracted!\n"
          ]
        }
      ]
    },
    {
      "cell_type": "markdown",
      "source": [
        "# New section"
      ],
      "metadata": {
        "id": "kUnM3ycQTXDk"
      }
    },
    {
      "cell_type": "code",
      "source": [
        "os.listdir('food-101/images')"
      ],
      "metadata": {
        "id": "mhhKoast-MOW",
        "colab": {
          "base_uri": "https://localhost:8080/"
        },
        "outputId": "a2316b2e-f8f1-4ef5-830c-5d8572e0b71d"
      },
      "execution_count": null,
      "outputs": [
        {
          "output_type": "execute_result",
          "data": {
            "text/plain": [
              "['deviled_eggs',\n",
              " 'baklava',\n",
              " 'bruschetta',\n",
              " 'beef_carpaccio',\n",
              " 'spaghetti_carbonara',\n",
              " 'macaroni_and_cheese',\n",
              " 'crab_cakes',\n",
              " 'oysters',\n",
              " 'pancakes',\n",
              " 'spring_rolls',\n",
              " 'french_toast',\n",
              " 'ice_cream',\n",
              " 'mussels',\n",
              " 'eggs_benedict',\n",
              " 'caesar_salad',\n",
              " 'croque_madame',\n",
              " 'fish_and_chips',\n",
              " 'baby_back_ribs',\n",
              " 'breakfast_burrito',\n",
              " 'lasagna',\n",
              " 'chocolate_mousse',\n",
              " 'filet_mignon',\n",
              " 'caprese_salad',\n",
              " 'gyoza',\n",
              " 'gnocchi',\n",
              " 'chicken_wings',\n",
              " 'huevos_rancheros',\n",
              " 'club_sandwich',\n",
              " 'beef_tartare',\n",
              " 'tacos',\n",
              " 'foie_gras',\n",
              " 'cheesecake',\n",
              " 'dumplings',\n",
              " 'chicken_quesadilla',\n",
              " 'scallops',\n",
              " 'cheese_plate',\n",
              " 'pulled_pork_sandwich',\n",
              " 'paella',\n",
              " 'macarons',\n",
              " 'takoyaki',\n",
              " 'prime_rib',\n",
              " 'garlic_bread',\n",
              " 'panna_cotta',\n",
              " 'donuts',\n",
              " 'churros',\n",
              " 'falafel',\n",
              " 'edamame',\n",
              " 'strawberry_shortcake',\n",
              " 'hot_and_sour_soup',\n",
              " 'frozen_yogurt',\n",
              " 'escargots',\n",
              " 'cup_cakes',\n",
              " 'red_velvet_cake',\n",
              " 'pho',\n",
              " 'fried_rice',\n",
              " 'risotto',\n",
              " 'waffles',\n",
              " 'peking_duck',\n",
              " 'tiramisu',\n",
              " 'ceviche',\n",
              " 'beet_salad',\n",
              " 'bibimbap',\n",
              " 'apple_pie',\n",
              " 'lobster_roll_sandwich',\n",
              " 'cannoli',\n",
              " 'ravioli',\n",
              " 'beignets',\n",
              " 'pad_thai',\n",
              " 'greek_salad',\n",
              " 'chicken_curry',\n",
              " 'miso_soup',\n",
              " 'pork_chop',\n",
              " 'seaweed_salad',\n",
              " 'french_fries',\n",
              " 'ramen',\n",
              " 'sushi',\n",
              " 'nachos',\n",
              " 'french_onion_soup',\n",
              " 'lobster_bisque',\n",
              " 'samosa',\n",
              " 'bread_pudding',\n",
              " 'steak',\n",
              " 'grilled_cheese_sandwich',\n",
              " 'fried_calamari',\n",
              " 'chocolate_cake',\n",
              " 'hamburger',\n",
              " 'creme_brulee',\n",
              " 'omelette',\n",
              " 'poutine',\n",
              " 'sashimi',\n",
              " 'tuna_tartare',\n",
              " 'guacamole',\n",
              " 'grilled_salmon',\n",
              " 'clam_chowder',\n",
              " 'onion_rings',\n",
              " 'hummus',\n",
              " 'carrot_cake',\n",
              " 'hot_dog',\n",
              " 'shrimp_and_grits',\n",
              " 'pizza',\n",
              " 'spaghetti_bolognese']"
            ]
          },
          "metadata": {},
          "execution_count": 16
        }
      ]
    },
    {
      "cell_type": "code",
      "source": [
        "os.listdir('food-101/meta')"
      ],
      "metadata": {
        "colab": {
          "base_uri": "https://localhost:8080/"
        },
        "id": "t3C0Lb7fIFAw",
        "outputId": "5eb2cd5f-c29c-45a7-e967-b0e349d14feb"
      },
      "execution_count": null,
      "outputs": [
        {
          "output_type": "execute_result",
          "data": {
            "text/plain": [
              "['classes.txt',\n",
              " 'test.json',\n",
              " 'labels.txt',\n",
              " 'train.txt',\n",
              " 'train.json',\n",
              " 'test.txt']"
            ]
          },
          "metadata": {},
          "execution_count": 17
        }
      ]
    },
    {
      "cell_type": "code",
      "source": [
        "# Helper method to split dataset into train and test folders\n",
        "def prepare_data(filepath, src,dest):\n",
        "  classes_images = defaultdict(list)\n",
        "  with open(filepath, 'r') as txt:\n",
        "      paths = [read.strip() for read in txt.readlines()]\n",
        "      for p in paths:\n",
        "        food = p.split('/')\n",
        "        classes_images[food[0]].append(food[1] + '.jpg')\n",
        "\n",
        "  for food in classes_images.keys():\n",
        "    print(\"\\nCopying images into \",food)\n",
        "    if not os.path.exists(os.path.join(dest,food)):\n",
        "      os.makedirs(os.path.join(dest,food))\n",
        "    for i in classes_images[food]:\n",
        "      copy(os.path.join(src,food,i), os.path.join(dest,food,i))\n",
        "  print(\"Copying Done!\")"
      ],
      "metadata": {
        "id": "tGDVFkKCII_8"
      },
      "execution_count": null,
      "outputs": []
    },
    {
      "cell_type": "code",
      "source": [
        "# Prepare train dataset by copying images from food-101/images to food-101/train using the file train.txt\n",
        "print(\"Creating train data...\")\n",
        "prepare_data('food-101/meta/train.txt', 'food-101/images', 'food-101/train')"
      ],
      "metadata": {
        "colab": {
          "base_uri": "https://localhost:8080/"
        },
        "id": "TA89HnKuIZqs",
        "outputId": "525968ee-b0be-414d-ea01-f8b1987a76de"
      },
      "execution_count": null,
      "outputs": [
        {
          "output_type": "stream",
          "name": "stdout",
          "text": [
            "Creating train data...\n",
            "\n",
            "Copying images into  apple_pie\n",
            "\n",
            "Copying images into  baby_back_ribs\n",
            "\n",
            "Copying images into  baklava\n",
            "\n",
            "Copying images into  beef_carpaccio\n",
            "\n",
            "Copying images into  beef_tartare\n",
            "\n",
            "Copying images into  beet_salad\n",
            "\n",
            "Copying images into  beignets\n",
            "\n",
            "Copying images into  bibimbap\n",
            "\n",
            "Copying images into  bread_pudding\n",
            "\n",
            "Copying images into  breakfast_burrito\n",
            "\n",
            "Copying images into  bruschetta\n",
            "\n",
            "Copying images into  caesar_salad\n",
            "\n",
            "Copying images into  cannoli\n",
            "\n",
            "Copying images into  caprese_salad\n",
            "\n",
            "Copying images into  carrot_cake\n",
            "\n",
            "Copying images into  ceviche\n",
            "\n",
            "Copying images into  cheesecake\n",
            "\n",
            "Copying images into  cheese_plate\n",
            "\n",
            "Copying images into  chicken_curry\n",
            "\n",
            "Copying images into  chicken_quesadilla\n",
            "\n",
            "Copying images into  chicken_wings\n",
            "\n",
            "Copying images into  chocolate_cake\n",
            "\n",
            "Copying images into  chocolate_mousse\n",
            "\n",
            "Copying images into  churros\n",
            "\n",
            "Copying images into  clam_chowder\n",
            "\n",
            "Copying images into  club_sandwich\n",
            "\n",
            "Copying images into  crab_cakes\n",
            "\n",
            "Copying images into  creme_brulee\n",
            "\n",
            "Copying images into  croque_madame\n",
            "\n",
            "Copying images into  cup_cakes\n",
            "\n",
            "Copying images into  deviled_eggs\n",
            "\n",
            "Copying images into  donuts\n",
            "\n",
            "Copying images into  dumplings\n",
            "\n",
            "Copying images into  edamame\n",
            "\n",
            "Copying images into  eggs_benedict\n",
            "\n",
            "Copying images into  escargots\n",
            "\n",
            "Copying images into  falafel\n",
            "\n",
            "Copying images into  filet_mignon\n",
            "\n",
            "Copying images into  fish_and_chips\n",
            "\n",
            "Copying images into  foie_gras\n",
            "\n",
            "Copying images into  french_fries\n",
            "\n",
            "Copying images into  french_onion_soup\n",
            "\n",
            "Copying images into  french_toast\n",
            "\n",
            "Copying images into  fried_calamari\n",
            "\n",
            "Copying images into  fried_rice\n",
            "\n",
            "Copying images into  frozen_yogurt\n",
            "\n",
            "Copying images into  garlic_bread\n",
            "\n",
            "Copying images into  gnocchi\n",
            "\n",
            "Copying images into  greek_salad\n",
            "\n",
            "Copying images into  grilled_cheese_sandwich\n",
            "\n",
            "Copying images into  grilled_salmon\n",
            "\n",
            "Copying images into  guacamole\n",
            "\n",
            "Copying images into  gyoza\n",
            "\n",
            "Copying images into  hamburger\n",
            "\n",
            "Copying images into  hot_and_sour_soup\n",
            "\n",
            "Copying images into  hot_dog\n",
            "\n",
            "Copying images into  huevos_rancheros\n",
            "\n",
            "Copying images into  hummus\n",
            "\n",
            "Copying images into  ice_cream\n",
            "\n",
            "Copying images into  lasagna\n",
            "\n",
            "Copying images into  lobster_bisque\n",
            "\n",
            "Copying images into  lobster_roll_sandwich\n",
            "\n",
            "Copying images into  macaroni_and_cheese\n",
            "\n",
            "Copying images into  macarons\n",
            "\n",
            "Copying images into  miso_soup\n",
            "\n",
            "Copying images into  mussels\n",
            "\n",
            "Copying images into  nachos\n",
            "\n",
            "Copying images into  omelette\n",
            "\n",
            "Copying images into  onion_rings\n",
            "\n",
            "Copying images into  oysters\n",
            "\n",
            "Copying images into  pad_thai\n",
            "\n",
            "Copying images into  paella\n",
            "\n",
            "Copying images into  pancakes\n",
            "\n",
            "Copying images into  panna_cotta\n",
            "\n",
            "Copying images into  peking_duck\n",
            "\n",
            "Copying images into  pho\n",
            "\n",
            "Copying images into  pizza\n",
            "\n",
            "Copying images into  pork_chop\n",
            "\n",
            "Copying images into  poutine\n",
            "\n",
            "Copying images into  prime_rib\n",
            "\n",
            "Copying images into  pulled_pork_sandwich\n",
            "\n",
            "Copying images into  ramen\n",
            "\n",
            "Copying images into  ravioli\n",
            "\n",
            "Copying images into  red_velvet_cake\n",
            "\n",
            "Copying images into  risotto\n",
            "\n",
            "Copying images into  samosa\n",
            "\n",
            "Copying images into  sashimi\n",
            "\n",
            "Copying images into  scallops\n",
            "\n",
            "Copying images into  seaweed_salad\n",
            "\n",
            "Copying images into  shrimp_and_grits\n",
            "\n",
            "Copying images into  spaghetti_bolognese\n",
            "\n",
            "Copying images into  spaghetti_carbonara\n",
            "\n",
            "Copying images into  spring_rolls\n",
            "\n",
            "Copying images into  steak\n",
            "\n",
            "Copying images into  strawberry_shortcake\n",
            "\n",
            "Copying images into  sushi\n",
            "\n",
            "Copying images into  tacos\n",
            "\n",
            "Copying images into  takoyaki\n",
            "\n",
            "Copying images into  tiramisu\n",
            "\n",
            "Copying images into  tuna_tartare\n",
            "\n",
            "Copying images into  waffles\n",
            "Copying Done!\n"
          ]
        }
      ]
    },
    {
      "cell_type": "code",
      "source": [
        "# Prepare test data by copying images from food-101/images to food-101/test using the file test.txt\n",
        "print(\"Creating test data...\")\n",
        "prepare_data('food-101/meta/test.txt', 'food-101/images', 'food-101/test')"
      ],
      "metadata": {
        "colab": {
          "base_uri": "https://localhost:8080/"
        },
        "id": "Hz1c9JwdIc5L",
        "outputId": "b55a81fb-01cb-4c00-f222-947dddbf572a"
      },
      "execution_count": null,
      "outputs": [
        {
          "output_type": "stream",
          "name": "stdout",
          "text": [
            "Creating test data...\n",
            "\n",
            "Copying images into  apple_pie\n",
            "\n",
            "Copying images into  baby_back_ribs\n",
            "\n",
            "Copying images into  baklava\n",
            "\n",
            "Copying images into  beef_carpaccio\n",
            "\n",
            "Copying images into  beef_tartare\n",
            "\n",
            "Copying images into  beet_salad\n",
            "\n",
            "Copying images into  beignets\n",
            "\n",
            "Copying images into  bibimbap\n",
            "\n",
            "Copying images into  bread_pudding\n",
            "\n",
            "Copying images into  breakfast_burrito\n",
            "\n",
            "Copying images into  bruschetta\n",
            "\n",
            "Copying images into  caesar_salad\n",
            "\n",
            "Copying images into  cannoli\n",
            "\n",
            "Copying images into  caprese_salad\n",
            "\n",
            "Copying images into  carrot_cake\n",
            "\n",
            "Copying images into  ceviche\n",
            "\n",
            "Copying images into  cheesecake\n",
            "\n",
            "Copying images into  cheese_plate\n",
            "\n",
            "Copying images into  chicken_curry\n",
            "\n",
            "Copying images into  chicken_quesadilla\n",
            "\n",
            "Copying images into  chicken_wings\n",
            "\n",
            "Copying images into  chocolate_cake\n",
            "\n",
            "Copying images into  chocolate_mousse\n",
            "\n",
            "Copying images into  churros\n",
            "\n",
            "Copying images into  clam_chowder\n",
            "\n",
            "Copying images into  club_sandwich\n",
            "\n",
            "Copying images into  crab_cakes\n",
            "\n",
            "Copying images into  creme_brulee\n",
            "\n",
            "Copying images into  croque_madame\n",
            "\n",
            "Copying images into  cup_cakes\n",
            "\n",
            "Copying images into  deviled_eggs\n",
            "\n",
            "Copying images into  donuts\n",
            "\n",
            "Copying images into  dumplings\n",
            "\n",
            "Copying images into  edamame\n",
            "\n",
            "Copying images into  eggs_benedict\n",
            "\n",
            "Copying images into  escargots\n",
            "\n",
            "Copying images into  falafel\n",
            "\n",
            "Copying images into  filet_mignon\n",
            "\n",
            "Copying images into  fish_and_chips\n",
            "\n",
            "Copying images into  foie_gras\n",
            "\n",
            "Copying images into  french_fries\n",
            "\n",
            "Copying images into  french_onion_soup\n",
            "\n",
            "Copying images into  french_toast\n",
            "\n",
            "Copying images into  fried_calamari\n",
            "\n",
            "Copying images into  fried_rice\n",
            "\n",
            "Copying images into  frozen_yogurt\n",
            "\n",
            "Copying images into  garlic_bread\n",
            "\n",
            "Copying images into  gnocchi\n",
            "\n",
            "Copying images into  greek_salad\n",
            "\n",
            "Copying images into  grilled_cheese_sandwich\n",
            "\n",
            "Copying images into  grilled_salmon\n",
            "\n",
            "Copying images into  guacamole\n",
            "\n",
            "Copying images into  gyoza\n",
            "\n",
            "Copying images into  hamburger\n",
            "\n",
            "Copying images into  hot_and_sour_soup\n",
            "\n",
            "Copying images into  hot_dog\n",
            "\n",
            "Copying images into  huevos_rancheros\n",
            "\n",
            "Copying images into  hummus\n",
            "\n",
            "Copying images into  ice_cream\n",
            "\n",
            "Copying images into  lasagna\n",
            "\n",
            "Copying images into  lobster_bisque\n",
            "\n",
            "Copying images into  lobster_roll_sandwich\n",
            "\n",
            "Copying images into  macaroni_and_cheese\n",
            "\n",
            "Copying images into  macarons\n",
            "\n",
            "Copying images into  miso_soup\n",
            "\n",
            "Copying images into  mussels\n",
            "\n",
            "Copying images into  nachos\n",
            "\n",
            "Copying images into  omelette\n",
            "\n",
            "Copying images into  onion_rings\n",
            "\n",
            "Copying images into  oysters\n",
            "\n",
            "Copying images into  pad_thai\n",
            "\n",
            "Copying images into  paella\n",
            "\n",
            "Copying images into  pancakes\n",
            "\n",
            "Copying images into  panna_cotta\n",
            "\n",
            "Copying images into  peking_duck\n",
            "\n",
            "Copying images into  pho\n",
            "\n",
            "Copying images into  pizza\n",
            "\n",
            "Copying images into  pork_chop\n",
            "\n",
            "Copying images into  poutine\n",
            "\n",
            "Copying images into  prime_rib\n",
            "\n",
            "Copying images into  pulled_pork_sandwich\n",
            "\n",
            "Copying images into  ramen\n",
            "\n",
            "Copying images into  ravioli\n",
            "\n",
            "Copying images into  red_velvet_cake\n",
            "\n",
            "Copying images into  risotto\n",
            "\n",
            "Copying images into  samosa\n",
            "\n",
            "Copying images into  sashimi\n",
            "\n",
            "Copying images into  scallops\n",
            "\n",
            "Copying images into  seaweed_salad\n",
            "\n",
            "Copying images into  shrimp_and_grits\n",
            "\n",
            "Copying images into  spaghetti_bolognese\n",
            "\n",
            "Copying images into  spaghetti_carbonara\n",
            "\n",
            "Copying images into  spring_rolls\n",
            "\n",
            "Copying images into  steak\n",
            "\n",
            "Copying images into  strawberry_shortcake\n",
            "\n",
            "Copying images into  sushi\n",
            "\n",
            "Copying images into  tacos\n",
            "\n",
            "Copying images into  takoyaki\n",
            "\n",
            "Copying images into  tiramisu\n",
            "\n",
            "Copying images into  tuna_tartare\n",
            "\n",
            "Copying images into  waffles\n",
            "Copying Done!\n"
          ]
        }
      ]
    },
    {
      "cell_type": "code",
      "source": [
        "# Check how many files are in the train folder\n",
        "\n",
        "train_files = sum([len(files) for i, j, files in os.walk(\"food-101/train\")])\n",
        "print(\"Total number of samples in train folder\")\n",
        "print(train_files)"
      ],
      "metadata": {
        "colab": {
          "base_uri": "https://localhost:8080/"
        },
        "id": "TlV7D0jUIf4J",
        "outputId": "1031a532-e334-4b00-b841-3352b93cd618"
      },
      "execution_count": null,
      "outputs": [
        {
          "output_type": "stream",
          "name": "stdout",
          "text": [
            "Total number of samples in train folder\n",
            "75750\n"
          ]
        }
      ]
    },
    {
      "cell_type": "code",
      "source": [
        "# Check how many files are in the test folder\n",
        "test_files = sum([len(files) for i, j, files in os.walk(\"food-101/test\")])\n",
        "print(\"Total number of samples in test folder\")\n",
        "print(test_files)"
      ],
      "metadata": {
        "colab": {
          "base_uri": "https://localhost:8080/"
        },
        "id": "fxpWI3rFIqal",
        "outputId": "c36f67a7-26f7-4fe0-f24e-62c1cb3c6377"
      },
      "execution_count": null,
      "outputs": [
        {
          "output_type": "stream",
          "name": "stdout",
          "text": [
            "Total number of samples in test folder\n",
            "25250\n"
          ]
        }
      ]
    },
    {
      "cell_type": "code",
      "source": [
        "# Helper method to create train_mini and test_mini data samples\n",
        "def dataset_mini(food_list, src, dest):\n",
        "  if os.path.exists(dest):\n",
        "    rmtree(dest) # removing dataset_mini(if it already exists) folders so that we will have only the classes that we want\n",
        "  os.makedirs(dest)\n",
        "  for food_item in food_list :\n",
        "    print(\"Copying images into\",food_item)\n",
        "    copytree(os.path.join(src,food_item), os.path.join(dest,food_item))"
      ],
      "metadata": {
        "id": "8yTX_M8gIvE9"
      },
      "execution_count": null,
      "outputs": []
    },
    {
      "cell_type": "code",
      "source": [
        "# picking 3 food items and generating separate data folders for the same\n",
        "food_list = ['ice_cream','pizza']\n",
        "src_train = 'food-101/train'\n",
        "dest_train = 'food-101/train_mini'\n",
        "src_test = 'food-101/test'\n",
        "dest_test = 'food-101/test_mini'"
      ],
      "metadata": {
        "id": "VVyYqWnqK56p"
      },
      "execution_count": null,
      "outputs": []
    },
    {
      "cell_type": "code",
      "source": [
        "print(\"Creating train data folder with new classes\")\n",
        "dataset_mini(food_list, src_train, dest_train)"
      ],
      "metadata": {
        "colab": {
          "base_uri": "https://localhost:8080/"
        },
        "id": "vvRKfQQdL5D5",
        "outputId": "be9d0526-d9e2-463c-8562-ae39da9e9ab3"
      },
      "execution_count": null,
      "outputs": [
        {
          "output_type": "stream",
          "name": "stdout",
          "text": [
            "Creating train data folder with new classes\n",
            "Copying images into ice_cream\n",
            "Copying images into pizza\n"
          ]
        }
      ]
    },
    {
      "cell_type": "code",
      "source": [
        "print(\"Total number of samples in train folder\")\n",
        "train_files = sum([len(files) for i, j, files in os.walk(\"food-101/train_mini\")])\n",
        "print(train_files)"
      ],
      "metadata": {
        "colab": {
          "base_uri": "https://localhost:8080/"
        },
        "id": "xrCNMIm3L9ll",
        "outputId": "37101dc0-9f67-4f10-cd44-e4bc8dfd0650"
      },
      "execution_count": null,
      "outputs": [
        {
          "output_type": "stream",
          "name": "stdout",
          "text": [
            "Total number of samples in train folder\n",
            "1500\n"
          ]
        }
      ]
    },
    {
      "cell_type": "code",
      "source": [
        "print(\"Creating test data folder with new classes\")\n",
        "dataset_mini(food_list, src_test, dest_test)"
      ],
      "metadata": {
        "colab": {
          "base_uri": "https://localhost:8080/"
        },
        "id": "SkVQy2t0MAWJ",
        "outputId": "86d1d854-da24-4816-fb1b-f80f4acd6715"
      },
      "execution_count": null,
      "outputs": [
        {
          "output_type": "stream",
          "name": "stdout",
          "text": [
            "Creating test data folder with new classes\n",
            "Copying images into ice_cream\n",
            "Copying images into pizza\n"
          ]
        }
      ]
    },
    {
      "cell_type": "code",
      "source": [
        "print(\"Total number of samples in test folder\")\n",
        "test_files = sum([len(files) for i, j, files in os.walk(\"food-101/test_mini\")])\n",
        "print(test_files)"
      ],
      "metadata": {
        "colab": {
          "base_uri": "https://localhost:8080/"
        },
        "id": "yQkDyrekMJaQ",
        "outputId": "f3bf9c5d-c830-4698-c9cc-da0f68c5fa06"
      },
      "execution_count": null,
      "outputs": [
        {
          "output_type": "stream",
          "name": "stdout",
          "text": [
            "Total number of samples in test folder\n",
            "500\n"
          ]
        }
      ]
    },
    {
      "cell_type": "code",
      "source": [
        "img_width, img_height = 299, 299\n",
        "def train_model(n_classes,num_epochs, nb_train_samples,nb_validation_samples):\n",
        "  K.clear_session()\n",
        "\n",
        "  img_width, img_height = 299, 299\n",
        "  train_data_dir = 'food-101/train_mini'\n",
        "  validation_data_dir = 'food-101/test_mini'\n",
        "  batch_size = 16\n",
        "  bestmodel_path = 'bestmodel_'+str(n_classes)+'class.hdf5'\n",
        "  trainedmodel_path = 'trainedmodel_'+str(n_classes)+'class.hdf5'\n",
        "  history_path = 'history_'+str(n_classes)+'.log'\n",
        "\n",
        "  train_datagen = ImageDataGenerator(\n",
        "      preprocessing_function=preprocess_input,\n",
        "      shear_range=0.2,\n",
        "      zoom_range=0.2,\n",
        "      horizontal_flip=True)\n",
        "\n",
        "  test_datagen = ImageDataGenerator(preprocessing_function=preprocess_input)\n",
        "\n",
        "  train_generator = train_datagen.flow_from_directory(\n",
        "      train_data_dir,\n",
        "      target_size=(img_height, img_width),\n",
        "      batch_size=batch_size,\n",
        "      class_mode='categorical')\n",
        "\n",
        "  validation_generator = test_datagen.flow_from_directory(\n",
        "      validation_data_dir,\n",
        "      target_size=(img_height, img_width),\n",
        "      batch_size=batch_size,\n",
        "      class_mode='categorical')\n",
        "\n",
        "\n",
        "  xception = Xception(weights='imagenet', include_top=False)\n",
        "  x = xception.output\n",
        "  x = GlobalAveragePooling2D()(x)\n",
        "  x = Dense(128,activation='relu')(x)\n",
        "  x = Dropout(0.2)(x)\n",
        "\n",
        "  predictions = Dense(n_classes,kernel_regularizer=regularizers.l2(0.005), activation='softmax')(x)\n",
        "\n",
        "  model = Model(inputs=xception.input, outputs=predictions)\n",
        "  model.compile(optimizer=SGD(lr=0.0001, momentum=0.9), loss='categorical_crossentropy', metrics=['accuracy'])\n",
        "  checkpoint = ModelCheckpoint(filepath=bestmodel_path, verbose=1, save_best_only=True)\n",
        "  csv_logger = CSVLogger(history_path)\n",
        "\n",
        "  history = model.fit_generator(train_generator,\n",
        "                      steps_per_epoch = nb_train_samples // batch_size,\n",
        "                      validation_data=validation_generator,\n",
        "                      validation_steps=nb_validation_samples // batch_size,\n",
        "                      epochs=num_epochs,\n",
        "                      verbose=1,\n",
        "                      callbacks=[csv_logger, checkpoint])\n",
        "\n",
        "  model.save(trainedmodel_path)\n",
        "  class_map = train_generator.class_indices\n",
        "  return history, class_map"
      ],
      "metadata": {
        "id": "idgNXJ5hMNmG"
      },
      "execution_count": null,
      "outputs": []
    },
    {
      "cell_type": "code",
      "source": [
        "# Train the model with data from 2 classes\n",
        "n_classes = 2\n",
        "epochs = 5\n",
        "nb_train_samples = train_files\n",
        "nb_validation_samples = test_files\n",
        "\n",
        "history, class_map_2 = train_model(n_classes,epochs, nb_train_samples,nb_validation_samples)\n",
        "print(class_map_2)"
      ],
      "metadata": {
        "colab": {
          "base_uri": "https://localhost:8080/"
        },
        "id": "ShxIkgxTMa3N",
        "outputId": "bcd0b364-1ae0-4dc1-c15d-5ab908c772c8"
      },
      "execution_count": null,
      "outputs": [
        {
          "output_type": "stream",
          "name": "stdout",
          "text": [
            "Found 1500 images belonging to 2 classes.\n",
            "Found 500 images belonging to 2 classes.\n",
            "Downloading data from https://storage.googleapis.com/tensorflow/keras-applications/xception/xception_weights_tf_dim_ordering_tf_kernels_notop.h5\n",
            "83689472/83683744 [==============================] - 1s 0us/step\n",
            "83697664/83683744 [==============================] - 1s 0us/step\n"
          ]
        },
        {
          "output_type": "stream",
          "name": "stderr",
          "text": [
            "/usr/local/lib/python3.7/dist-packages/keras/optimizer_v2/gradient_descent.py:102: UserWarning: The `lr` argument is deprecated, use `learning_rate` instead.\n",
            "  super(SGD, self).__init__(name, **kwargs)\n",
            "/usr/local/lib/python3.7/dist-packages/ipykernel_launcher.py:53: UserWarning: `Model.fit_generator` is deprecated and will be removed in a future version. Please use `Model.fit`, which supports generators.\n"
          ]
        },
        {
          "output_type": "stream",
          "name": "stdout",
          "text": [
            "Epoch 1/5\n",
            "93/93 [==============================] - ETA: 0s - loss: 0.6884 - accuracy: 0.5896\n",
            "Epoch 00001: val_loss improved from inf to 0.59894, saving model to bestmodel_2class.hdf5\n"
          ]
        },
        {
          "output_type": "stream",
          "name": "stderr",
          "text": [
            "/usr/local/lib/python3.7/dist-packages/keras/engine/functional.py:1410: CustomMaskWarning: Custom mask layers require a config and must override get_config. When loading, the custom mask layer must be passed to the custom_objects argument.\n",
            "  layer_config = serialize_layer_fn(layer)\n"
          ]
        },
        {
          "output_type": "stream",
          "name": "stdout",
          "text": [
            "\b\b\b\b\b\b\b\b\b\b\b\b\b\b\b\b\b\b\b\b\b\b\b\b\b\b\b\b\b\b\b\b\b\b\b\b\b\b\b\b\b\b\b\b\b\b\b\b\b\b\b\b\b\b\b\b\b\b\b\b\b\b\b\b\b\b\b\b\b\b\b\b\b\b\b\b\b\b\b\b\b\b\r93/93 [==============================] - 174s 2s/step - loss: 0.6884 - accuracy: 0.5896 - val_loss: 0.5989 - val_accuracy: 0.8589\n",
            "Epoch 2/5\n",
            "93/93 [==============================] - ETA: 0s - loss: 0.5840 - accuracy: 0.7931\n",
            "Epoch 00002: val_loss improved from 0.59894 to 0.49408, saving model to bestmodel_2class.hdf5\n",
            "93/93 [==============================] - 161s 2s/step - loss: 0.5840 - accuracy: 0.7931 - val_loss: 0.4941 - val_accuracy: 0.9335\n",
            "Epoch 3/5\n",
            "93/93 [==============================] - ETA: 0s - loss: 0.5104 - accuracy: 0.8558\n",
            "Epoch 00003: val_loss improved from 0.49408 to 0.41982, saving model to bestmodel_2class.hdf5\n",
            "93/93 [==============================] - 161s 2s/step - loss: 0.5104 - accuracy: 0.8558 - val_loss: 0.4198 - val_accuracy: 0.9597\n",
            "Epoch 4/5\n",
            "93/93 [==============================] - ETA: 0s - loss: 0.4391 - accuracy: 0.8929\n",
            "Epoch 00004: val_loss improved from 0.41982 to 0.35511, saving model to bestmodel_2class.hdf5\n",
            "93/93 [==============================] - 161s 2s/step - loss: 0.4391 - accuracy: 0.8929 - val_loss: 0.3551 - val_accuracy: 0.9758\n",
            "Epoch 5/5\n",
            "93/93 [==============================] - ETA: 0s - loss: 0.3920 - accuracy: 0.9117\n",
            "Epoch 00005: val_loss improved from 0.35511 to 0.30272, saving model to bestmodel_2class.hdf5\n",
            "93/93 [==============================] - 162s 2s/step - loss: 0.3920 - accuracy: 0.9117 - val_loss: 0.3027 - val_accuracy: 0.9778\n",
            "{'ice_cream': 0, 'pizza': 1}\n"
          ]
        }
      ]
    },
    {
      "cell_type": "code",
      "source": [
        "plt.figure()\n",
        "plt.title(\"ACC\")\n",
        "plt.plot(history.history['accuracy']) # change acc to accuracy if testing TF 2.0\n",
        "plt.plot(history.history['val_accuracy']) # change val_accuracy if testing TF 2.0\n",
        "plt.ylabel('accuracy')\n",
        "plt.xlabel('epoch')\n",
        "plt.legend(['train_accuracy', 'validation_accuracy'], loc='best')\n",
        "plt.grid()\n",
        "plt.show()\n",
        "\n",
        "\n",
        "plt.figure()\n",
        "plt.title(\"LOSS\")\n",
        "plt.plot(history.history['loss'])\n",
        "plt.plot(history.history['val_loss'])\n",
        "plt.ylabel('loss')\n",
        "plt.xlabel('epoch')\n",
        "plt.legend(['train_loss', 'validation_loss'], loc='best')\n",
        "plt.grid()\n",
        "plt.show()\n"
      ],
      "metadata": {
        "id": "d8tveb_NOmM6",
        "colab": {
          "base_uri": "https://localhost:8080/",
          "height": 573
        },
        "outputId": "a1cd039b-477b-4849-ecc4-1bb1dca9023b"
      },
      "execution_count": null,
      "outputs": [
        {
          "output_type": "display_data",
          "data": {
            "image/png": "[encoded data removed]",
            "text/plain": [
              "<Figure size 432x288 with 1 Axes>"
            ]
          },
          "metadata": {
            "needs_background": "light"
          }
        },
        {
          "output_type": "display_data",
          "data": {
            "image/png": "[encoded data removed]",
            "text/plain": [
              "<Figure size 432x288 with 1 Axes>"
            ]
          },
          "metadata": {
            "needs_background": "light"
          }
        }
      ]
    },
    {
      "cell_type": "code",
      "source": [
        ""
      ],
      "metadata": {
        "id": "-1HWwGxez-vE"
      },
      "execution_count": null,
      "outputs": []
    }
  ]
}